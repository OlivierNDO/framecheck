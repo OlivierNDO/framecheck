{
  "cells": [
    {
      "cell_type": "markdown",
      "metadata": {
        "id": "X3PcWDIGMoOD"
      },
      "source": [
        "# <img src=\"https://raw.githubusercontent.com/OlivierNDO/framecheck/main/images/logo.png\" alt=\"FrameCheck\" width=\"512\" height=\"125\">\n",
        "\n",
        "# FrameCheck: Pandas DataFrame Validation\n",
        "\n",
        "**FrameCheck** is a lightweight, flexible validation library for pandas DataFrames.\n",
        "\n",
        "Instead of writing dozens of repetitive checks or dealing with complex schema configurations, FrameCheck offers a clean, fluent API that makes validation both readable and maintainable.\n",
        "\n",
        "Key features:\n",
        "- Simple, chainable validation methods\n",
        "- Column and DataFrame-level validation\n",
        "- Support for both error and warning-level assertions\n",
        "- No configuration files or decorators\n",
        "\n",
        "This notebook demonstrates how FrameCheck can help you implement robust validation with minimal code."
      ]
    },
    {
      "cell_type": "markdown",
      "metadata": {
        "id": "BWfYckK8MoOE"
      },
      "source": [
        "## Setup"
      ]
    },
    {
      "cell_type": "code",
      "execution_count": 4,
      "metadata": {
        "id": "vb9fTPtfMoOE"
      },
      "outputs": [],
      "source": [
        "# Install framecheck\n",
        "!pip install framecheck -q\n",
        "\n",
        "# Import required packages\n",
        "import logging\n",
        "import pandas as pd\n",
        "from framecheck import FrameCheck"
      ]
    },
    {
      "cell_type": "markdown",
      "source": [
        "## Sample Data: Model Output Validation\n",
        "\n",
        "Let's create a dataset representing ML model output that requires validation:"
      ],
      "metadata": {
        "id": "mw4L7Z_AOlo7"
      }
    },
    {
      "cell_type": "code",
      "source": [
        "logger = logging.getLogger(\"model_validation\")\n",
        "logger.setLevel(logging.INFO)\n",
        "\n",
        "df = pd.DataFrame({\n",
        "    'transaction_id': ['TXN1001', 'TXN1002', 'TXN1003'],\n",
        "    'user_id': [501, 502, 503],\n",
        "    'transaction_time': ['2024-04-15 08:23:11', '2024-04-15 08:45:22', '2024-04-15 09:01:37'],\n",
        "    'model_score': [0.0, 0.92, 0.95],\n",
        "    'model_version': ['v2.1.0', 'v2.1.0', 'v2.1.0'],\n",
        "    'flagged_for_review': [False, True, False]\n",
        "})"
      ],
      "metadata": {
        "id": "JPkZgH1FOVXe"
      },
      "execution_count": 13,
      "outputs": []
    },
    {
      "cell_type": "markdown",
      "source": [
        "## Validation Requirements\n",
        "\n",
        "This data needs to meet these conditions:\n",
        "- `transaction_id`: follows TXN format\n",
        "- `user_id`: positive integer\n",
        "- `transaction_time`: valid datetime\n",
        "- `model_score`: float between 0-1 **(warn if equal to 0)**\n",
        "- `model_version`: string\n",
        "- `flagged_for_review`: boolean\n",
        "- No missing values\n",
        "- Business rule: high scores (>0.9) must be flagged"
      ],
      "metadata": {
        "id": "YnXeVu5H63JO"
      }
    },
    {
      "cell_type": "markdown",
      "source": [
        "Define FrameCheck object"
      ],
      "metadata": {
        "id": "aoaIaTAH8Boc"
      }
    },
    {
      "cell_type": "code",
      "source": [
        "model_output_validator = (\n",
        "    FrameCheck()\n",
        "    .column('transaction_id', type='string', regex=r'^TXN\\d{4,}$')\n",
        "    .column('user_id', type='int', min=1)\n",
        "    .column('transaction_time', type='datetime', before='now')\n",
        "    .column('model_score', type='float', min=0.0, max=1.0)\n",
        "    .column('model_score', type='float', not_in_set=[0.0], warn_only=True)\n",
        "    .column('model_version', type='string')\n",
        "    .column('flagged_for_review', type='bool')\n",
        "    .custom_check(\n",
        "        lambda row: row['model_score'] <= 0.9 or row['flagged_for_review'] is True,\n",
        "        \"flagged_for_review must be True when model_score > 0.9\"\n",
        "    )\n",
        "    .not_null()\n",
        "    .not_empty()\n",
        "    .only_defined_columns()\n",
        ")\n",
        "\n",
        "result = model_output_validator.validate(df)"
      ],
      "metadata": {
        "colab": {
          "base_uri": "https://localhost:8080/"
        },
        "id": "dZUYLnE3OVaH",
        "outputId": "e57de962-299c-45f4-bc2e-7b84498bdf01"
      },
      "execution_count": 14,
      "outputs": [
        {
          "output_type": "stream",
          "name": "stderr",
          "text": [
            "<ipython-input-14-6c50496868d6>:19: FrameCheckWarning: FrameCheck validation warnings:\n",
            "- Column 'model_score' contains disallowed values: [np.float64(0.0)].\n",
            "  result = model_output_validator.validate(df)\n",
            "<ipython-input-14-6c50496868d6>:19: FrameCheckWarning: FrameCheck validation errors:\n",
            "- flagged_for_review must be True when model_score > 0.9 (failed on 1 row(s))\n",
            "  result = model_output_validator.validate(df)\n"
          ]
        }
      ]
    },
    {
      "cell_type": "markdown",
      "source": [
        "## Validation Results\n",
        "\n",
        "FrameCheck shows two issues:\n",
        "\n",
        "**Warning:**\n",
        "- `model_score` contains value 0.0 (suspicious but allowed)\n",
        "\n",
        "**Error:**\n",
        "- Transaction with score > 0.9 not flagged for review (violates business rule)"
      ],
      "metadata": {
        "id": "Z0-hEm8h8RnT"
      }
    },
    {
      "cell_type": "markdown",
      "source": [
        "## Using Validation Results"
      ],
      "metadata": {
        "id": "93aZmdd67yJX"
      }
    },
    {
      "cell_type": "markdown",
      "source": [
        "Get a summary of all validation issues"
      ],
      "metadata": {
        "id": "nqxjTT1g-O4b"
      }
    },
    {
      "cell_type": "code",
      "source": [
        "print(result.summary())"
      ],
      "metadata": {
        "id": "kiZocHg2kfT7",
        "colab": {
          "base_uri": "https://localhost:8080/"
        },
        "outputId": "3005f81b-704c-4cd4-8031-f8c29876860e"
      },
      "execution_count": 16,
      "outputs": [
        {
          "output_type": "stream",
          "name": "stdout",
          "text": [
            "Validation FAILED\n",
            "1 error(s), 1 warning(s)\n",
            "Errors:\n",
            "  - flagged_for_review must be True when model_score > 0.9 (failed on 1 row(s))\n",
            "Warnings:\n",
            "  - Column 'model_score' contains disallowed values: [np.float64(0.0)].\n"
          ]
        }
      ]
    },
    {
      "cell_type": "markdown",
      "source": [
        "Identify invalid rows"
      ],
      "metadata": {
        "id": "NpQgIEZE-T3K"
      }
    },
    {
      "cell_type": "code",
      "source": [
        "invalid_rows = result.get_invalid_rows(df)\n",
        "invalid_rows"
      ],
      "metadata": {
        "id": "_AA4ZSThkfW2",
        "colab": {
          "base_uri": "https://localhost:8080/",
          "height": 125
        },
        "outputId": "c188da96-ee87-46a3-c1c1-b35ed6d15651"
      },
      "execution_count": 17,
      "outputs": [
        {
          "output_type": "execute_result",
          "data": {
            "text/plain": [
              "  transaction_id  user_id     transaction_time  model_score model_version  \\\n",
              "0        TXN1001      501  2024-04-15 08:23:11         0.00        v2.1.0   \n",
              "2        TXN1003      503  2024-04-15 09:01:37         0.95        v2.1.0   \n",
              "\n",
              "   flagged_for_review  \n",
              "0               False  \n",
              "2               False  "
            ],
            "text/html": [
              "\n",
              "  <div id=\"df-1b9b9a91-0629-48d3-ab57-e3f64db732c3\" class=\"colab-df-container\">\n",
              "    <div>\n",
              "<style scoped>\n",
              "    .dataframe tbody tr th:only-of-type {\n",
              "        vertical-align: middle;\n",
              "    }\n",
              "\n",
              "    .dataframe tbody tr th {\n",
              "        vertical-align: top;\n",
              "    }\n",
              "\n",
              "    .dataframe thead th {\n",
              "        text-align: right;\n",
              "    }\n",
              "</style>\n",
              "<table border=\"1\" class=\"dataframe\">\n",
              "  <thead>\n",
              "    <tr style=\"text-align: right;\">\n",
              "      <th></th>\n",
              "      <th>transaction_id</th>\n",
              "      <th>user_id</th>\n",
              "      <th>transaction_time</th>\n",
              "      <th>model_score</th>\n",
              "      <th>model_version</th>\n",
              "      <th>flagged_for_review</th>\n",
              "    </tr>\n",
              "  </thead>\n",
              "  <tbody>\n",
              "    <tr>\n",
              "      <th>0</th>\n",
              "      <td>TXN1001</td>\n",
              "      <td>501</td>\n",
              "      <td>2024-04-15 08:23:11</td>\n",
              "      <td>0.00</td>\n",
              "      <td>v2.1.0</td>\n",
              "      <td>False</td>\n",
              "    </tr>\n",
              "    <tr>\n",
              "      <th>2</th>\n",
              "      <td>TXN1003</td>\n",
              "      <td>503</td>\n",
              "      <td>2024-04-15 09:01:37</td>\n",
              "      <td>0.95</td>\n",
              "      <td>v2.1.0</td>\n",
              "      <td>False</td>\n",
              "    </tr>\n",
              "  </tbody>\n",
              "</table>\n",
              "</div>\n",
              "    <div class=\"colab-df-buttons\">\n",
              "\n",
              "  <div class=\"colab-df-container\">\n",
              "    <button class=\"colab-df-convert\" onclick=\"convertToInteractive('df-1b9b9a91-0629-48d3-ab57-e3f64db732c3')\"\n",
              "            title=\"Convert this dataframe to an interactive table.\"\n",
              "            style=\"display:none;\">\n",
              "\n",
              "  <svg xmlns=\"http://www.w3.org/2000/svg\" height=\"24px\" viewBox=\"0 -960 960 960\">\n",
              "    <path d=\"M120-120v-720h720v720H120Zm60-500h600v-160H180v160Zm220 220h160v-160H400v160Zm0 220h160v-160H400v160ZM180-400h160v-160H180v160Zm440 0h160v-160H620v160ZM180-180h160v-160H180v160Zm440 0h160v-160H620v160Z\"/>\n",
              "  </svg>\n",
              "    </button>\n",
              "\n",
              "  <style>\n",
              "    .colab-df-container {\n",
              "      display:flex;\n",
              "      gap: 12px;\n",
              "    }\n",
              "\n",
              "    .colab-df-convert {\n",
              "      background-color: #E8F0FE;\n",
              "      border: none;\n",
              "      border-radius: 50%;\n",
              "      cursor: pointer;\n",
              "      display: none;\n",
              "      fill: #1967D2;\n",
              "      height: 32px;\n",
              "      padding: 0 0 0 0;\n",
              "      width: 32px;\n",
              "    }\n",
              "\n",
              "    .colab-df-convert:hover {\n",
              "      background-color: #E2EBFA;\n",
              "      box-shadow: 0px 1px 2px rgba(60, 64, 67, 0.3), 0px 1px 3px 1px rgba(60, 64, 67, 0.15);\n",
              "      fill: #174EA6;\n",
              "    }\n",
              "\n",
              "    .colab-df-buttons div {\n",
              "      margin-bottom: 4px;\n",
              "    }\n",
              "\n",
              "    [theme=dark] .colab-df-convert {\n",
              "      background-color: #3B4455;\n",
              "      fill: #D2E3FC;\n",
              "    }\n",
              "\n",
              "    [theme=dark] .colab-df-convert:hover {\n",
              "      background-color: #434B5C;\n",
              "      box-shadow: 0px 1px 3px 1px rgba(0, 0, 0, 0.15);\n",
              "      filter: drop-shadow(0px 1px 2px rgba(0, 0, 0, 0.3));\n",
              "      fill: #FFFFFF;\n",
              "    }\n",
              "  </style>\n",
              "\n",
              "    <script>\n",
              "      const buttonEl =\n",
              "        document.querySelector('#df-1b9b9a91-0629-48d3-ab57-e3f64db732c3 button.colab-df-convert');\n",
              "      buttonEl.style.display =\n",
              "        google.colab.kernel.accessAllowed ? 'block' : 'none';\n",
              "\n",
              "      async function convertToInteractive(key) {\n",
              "        const element = document.querySelector('#df-1b9b9a91-0629-48d3-ab57-e3f64db732c3');\n",
              "        const dataTable =\n",
              "          await google.colab.kernel.invokeFunction('convertToInteractive',\n",
              "                                                    [key], {});\n",
              "        if (!dataTable) return;\n",
              "\n",
              "        const docLinkHtml = 'Like what you see? Visit the ' +\n",
              "          '<a target=\"_blank\" href=https://colab.research.google.com/notebooks/data_table.ipynb>data table notebook</a>'\n",
              "          + ' to learn more about interactive tables.';\n",
              "        element.innerHTML = '';\n",
              "        dataTable['output_type'] = 'display_data';\n",
              "        await google.colab.output.renderOutput(dataTable, element);\n",
              "        const docLink = document.createElement('div');\n",
              "        docLink.innerHTML = docLinkHtml;\n",
              "        element.appendChild(docLink);\n",
              "      }\n",
              "    </script>\n",
              "  </div>\n",
              "\n",
              "\n",
              "    <div id=\"df-a3480397-daa4-4a9a-9642-363fe73ce495\">\n",
              "      <button class=\"colab-df-quickchart\" onclick=\"quickchart('df-a3480397-daa4-4a9a-9642-363fe73ce495')\"\n",
              "                title=\"Suggest charts\"\n",
              "                style=\"display:none;\">\n",
              "\n",
              "<svg xmlns=\"http://www.w3.org/2000/svg\" height=\"24px\"viewBox=\"0 0 24 24\"\n",
              "     width=\"24px\">\n",
              "    <g>\n",
              "        <path d=\"M19 3H5c-1.1 0-2 .9-2 2v14c0 1.1.9 2 2 2h14c1.1 0 2-.9 2-2V5c0-1.1-.9-2-2-2zM9 17H7v-7h2v7zm4 0h-2V7h2v10zm4 0h-2v-4h2v4z\"/>\n",
              "    </g>\n",
              "</svg>\n",
              "      </button>\n",
              "\n",
              "<style>\n",
              "  .colab-df-quickchart {\n",
              "      --bg-color: #E8F0FE;\n",
              "      --fill-color: #1967D2;\n",
              "      --hover-bg-color: #E2EBFA;\n",
              "      --hover-fill-color: #174EA6;\n",
              "      --disabled-fill-color: #AAA;\n",
              "      --disabled-bg-color: #DDD;\n",
              "  }\n",
              "\n",
              "  [theme=dark] .colab-df-quickchart {\n",
              "      --bg-color: #3B4455;\n",
              "      --fill-color: #D2E3FC;\n",
              "      --hover-bg-color: #434B5C;\n",
              "      --hover-fill-color: #FFFFFF;\n",
              "      --disabled-bg-color: #3B4455;\n",
              "      --disabled-fill-color: #666;\n",
              "  }\n",
              "\n",
              "  .colab-df-quickchart {\n",
              "    background-color: var(--bg-color);\n",
              "    border: none;\n",
              "    border-radius: 50%;\n",
              "    cursor: pointer;\n",
              "    display: none;\n",
              "    fill: var(--fill-color);\n",
              "    height: 32px;\n",
              "    padding: 0;\n",
              "    width: 32px;\n",
              "  }\n",
              "\n",
              "  .colab-df-quickchart:hover {\n",
              "    background-color: var(--hover-bg-color);\n",
              "    box-shadow: 0 1px 2px rgba(60, 64, 67, 0.3), 0 1px 3px 1px rgba(60, 64, 67, 0.15);\n",
              "    fill: var(--button-hover-fill-color);\n",
              "  }\n",
              "\n",
              "  .colab-df-quickchart-complete:disabled,\n",
              "  .colab-df-quickchart-complete:disabled:hover {\n",
              "    background-color: var(--disabled-bg-color);\n",
              "    fill: var(--disabled-fill-color);\n",
              "    box-shadow: none;\n",
              "  }\n",
              "\n",
              "  .colab-df-spinner {\n",
              "    border: 2px solid var(--fill-color);\n",
              "    border-color: transparent;\n",
              "    border-bottom-color: var(--fill-color);\n",
              "    animation:\n",
              "      spin 1s steps(1) infinite;\n",
              "  }\n",
              "\n",
              "  @keyframes spin {\n",
              "    0% {\n",
              "      border-color: transparent;\n",
              "      border-bottom-color: var(--fill-color);\n",
              "      border-left-color: var(--fill-color);\n",
              "    }\n",
              "    20% {\n",
              "      border-color: transparent;\n",
              "      border-left-color: var(--fill-color);\n",
              "      border-top-color: var(--fill-color);\n",
              "    }\n",
              "    30% {\n",
              "      border-color: transparent;\n",
              "      border-left-color: var(--fill-color);\n",
              "      border-top-color: var(--fill-color);\n",
              "      border-right-color: var(--fill-color);\n",
              "    }\n",
              "    40% {\n",
              "      border-color: transparent;\n",
              "      border-right-color: var(--fill-color);\n",
              "      border-top-color: var(--fill-color);\n",
              "    }\n",
              "    60% {\n",
              "      border-color: transparent;\n",
              "      border-right-color: var(--fill-color);\n",
              "    }\n",
              "    80% {\n",
              "      border-color: transparent;\n",
              "      border-right-color: var(--fill-color);\n",
              "      border-bottom-color: var(--fill-color);\n",
              "    }\n",
              "    90% {\n",
              "      border-color: transparent;\n",
              "      border-bottom-color: var(--fill-color);\n",
              "    }\n",
              "  }\n",
              "</style>\n",
              "\n",
              "      <script>\n",
              "        async function quickchart(key) {\n",
              "          const quickchartButtonEl =\n",
              "            document.querySelector('#' + key + ' button');\n",
              "          quickchartButtonEl.disabled = true;  // To prevent multiple clicks.\n",
              "          quickchartButtonEl.classList.add('colab-df-spinner');\n",
              "          try {\n",
              "            const charts = await google.colab.kernel.invokeFunction(\n",
              "                'suggestCharts', [key], {});\n",
              "          } catch (error) {\n",
              "            console.error('Error during call to suggestCharts:', error);\n",
              "          }\n",
              "          quickchartButtonEl.classList.remove('colab-df-spinner');\n",
              "          quickchartButtonEl.classList.add('colab-df-quickchart-complete');\n",
              "        }\n",
              "        (() => {\n",
              "          let quickchartButtonEl =\n",
              "            document.querySelector('#df-a3480397-daa4-4a9a-9642-363fe73ce495 button');\n",
              "          quickchartButtonEl.style.display =\n",
              "            google.colab.kernel.accessAllowed ? 'block' : 'none';\n",
              "        })();\n",
              "      </script>\n",
              "    </div>\n",
              "\n",
              "  <div id=\"id_97217967-2ed4-47f1-8b25-7d0dda966935\">\n",
              "    <style>\n",
              "      .colab-df-generate {\n",
              "        background-color: #E8F0FE;\n",
              "        border: none;\n",
              "        border-radius: 50%;\n",
              "        cursor: pointer;\n",
              "        display: none;\n",
              "        fill: #1967D2;\n",
              "        height: 32px;\n",
              "        padding: 0 0 0 0;\n",
              "        width: 32px;\n",
              "      }\n",
              "\n",
              "      .colab-df-generate:hover {\n",
              "        background-color: #E2EBFA;\n",
              "        box-shadow: 0px 1px 2px rgba(60, 64, 67, 0.3), 0px 1px 3px 1px rgba(60, 64, 67, 0.15);\n",
              "        fill: #174EA6;\n",
              "      }\n",
              "\n",
              "      [theme=dark] .colab-df-generate {\n",
              "        background-color: #3B4455;\n",
              "        fill: #D2E3FC;\n",
              "      }\n",
              "\n",
              "      [theme=dark] .colab-df-generate:hover {\n",
              "        background-color: #434B5C;\n",
              "        box-shadow: 0px 1px 3px 1px rgba(0, 0, 0, 0.15);\n",
              "        filter: drop-shadow(0px 1px 2px rgba(0, 0, 0, 0.3));\n",
              "        fill: #FFFFFF;\n",
              "      }\n",
              "    </style>\n",
              "    <button class=\"colab-df-generate\" onclick=\"generateWithVariable('invalid_rows')\"\n",
              "            title=\"Generate code using this dataframe.\"\n",
              "            style=\"display:none;\">\n",
              "\n",
              "  <svg xmlns=\"http://www.w3.org/2000/svg\" height=\"24px\"viewBox=\"0 0 24 24\"\n",
              "       width=\"24px\">\n",
              "    <path d=\"M7,19H8.4L18.45,9,17,7.55,7,17.6ZM5,21V16.75L18.45,3.32a2,2,0,0,1,2.83,0l1.4,1.43a1.91,1.91,0,0,1,.58,1.4,1.91,1.91,0,0,1-.58,1.4L9.25,21ZM18.45,9,17,7.55Zm-12,3A5.31,5.31,0,0,0,4.9,8.1,5.31,5.31,0,0,0,1,6.5,5.31,5.31,0,0,0,4.9,4.9,5.31,5.31,0,0,0,6.5,1,5.31,5.31,0,0,0,8.1,4.9,5.31,5.31,0,0,0,12,6.5,5.46,5.46,0,0,0,6.5,12Z\"/>\n",
              "  </svg>\n",
              "    </button>\n",
              "    <script>\n",
              "      (() => {\n",
              "      const buttonEl =\n",
              "        document.querySelector('#id_97217967-2ed4-47f1-8b25-7d0dda966935 button.colab-df-generate');\n",
              "      buttonEl.style.display =\n",
              "        google.colab.kernel.accessAllowed ? 'block' : 'none';\n",
              "\n",
              "      buttonEl.onclick = () => {\n",
              "        google.colab.notebook.generateWithVariable('invalid_rows');\n",
              "      }\n",
              "      })();\n",
              "    </script>\n",
              "  </div>\n",
              "\n",
              "    </div>\n",
              "  </div>\n"
            ],
            "application/vnd.google.colaboratory.intrinsic+json": {
              "type": "dataframe",
              "variable_name": "invalid_rows",
              "summary": "{\n  \"name\": \"invalid_rows\",\n  \"rows\": 2,\n  \"fields\": [\n    {\n      \"column\": \"transaction_id\",\n      \"properties\": {\n        \"dtype\": \"string\",\n        \"num_unique_values\": 2,\n        \"samples\": [\n          \"TXN1003\",\n          \"TXN1001\"\n        ],\n        \"semantic_type\": \"\",\n        \"description\": \"\"\n      }\n    },\n    {\n      \"column\": \"user_id\",\n      \"properties\": {\n        \"dtype\": \"number\",\n        \"std\": 1,\n        \"min\": 501,\n        \"max\": 503,\n        \"num_unique_values\": 2,\n        \"samples\": [\n          503,\n          501\n        ],\n        \"semantic_type\": \"\",\n        \"description\": \"\"\n      }\n    },\n    {\n      \"column\": \"transaction_time\",\n      \"properties\": {\n        \"dtype\": \"object\",\n        \"num_unique_values\": 2,\n        \"samples\": [\n          \"2024-04-15 09:01:37\",\n          \"2024-04-15 08:23:11\"\n        ],\n        \"semantic_type\": \"\",\n        \"description\": \"\"\n      }\n    },\n    {\n      \"column\": \"model_score\",\n      \"properties\": {\n        \"dtype\": \"number\",\n        \"std\": 0.6717514421272202,\n        \"min\": 0.0,\n        \"max\": 0.95,\n        \"num_unique_values\": 2,\n        \"samples\": [\n          0.95,\n          0.0\n        ],\n        \"semantic_type\": \"\",\n        \"description\": \"\"\n      }\n    },\n    {\n      \"column\": \"model_version\",\n      \"properties\": {\n        \"dtype\": \"string\",\n        \"num_unique_values\": 1,\n        \"samples\": [\n          \"v2.1.0\"\n        ],\n        \"semantic_type\": \"\",\n        \"description\": \"\"\n      }\n    },\n    {\n      \"column\": \"flagged_for_review\",\n      \"properties\": {\n        \"dtype\": \"boolean\",\n        \"num_unique_values\": 1,\n        \"samples\": [\n          false\n        ],\n        \"semantic_type\": \"\",\n        \"description\": \"\"\n      }\n    }\n  ]\n}"
            }
          },
          "metadata": {},
          "execution_count": 17
        }
      ]
    },
    {
      "cell_type": "markdown",
      "source": [
        "Logging"
      ],
      "metadata": {
        "id": "y-ofOuqP-chb"
      }
    },
    {
      "cell_type": "code",
      "source": [
        "if result.errors:\n",
        "  logger.error(result.errors)"
      ],
      "metadata": {
        "colab": {
          "base_uri": "https://localhost:8080/"
        },
        "id": "YQrG0I6v-apv",
        "outputId": "518d6d32-17d5-4eaf-82a4-9180fefcff6a"
      },
      "execution_count": 20,
      "outputs": [
        {
          "output_type": "stream",
          "name": "stderr",
          "text": [
            "ERROR:model_validation:['flagged_for_review must be True when model_score > 0.9 (failed on 1 row(s))']\n"
          ]
        }
      ]
    },
    {
      "cell_type": "code",
      "source": [
        "if result.warnings:\n",
        "  logger.warning(result.warnings)"
      ],
      "metadata": {
        "colab": {
          "base_uri": "https://localhost:8080/"
        },
        "id": "85mWexks-bB7",
        "outputId": "1c3b4791-585b-49ba-b7f6-cefc2a523b30"
      },
      "execution_count": 19,
      "outputs": [
        {
          "output_type": "stream",
          "name": "stderr",
          "text": [
            "WARNING:model_validation:[\"Column 'model_score' contains disallowed values: [np.float64(0.0)].\"]\n"
          ]
        }
      ]
    },
    {
      "cell_type": "markdown",
      "source": [
        "## Raising Exceptions\n",
        "\n",
        "Use `.raise_on_error()` to throw exceptions for invalid data\n",
        "\n",
        "In this example, we require that `id` be non-null and unique."
      ],
      "metadata": {
        "id": "OsLdIypQ_lta"
      }
    },
    {
      "cell_type": "code",
      "source": [
        "simple_df = pd.DataFrame({\n",
        "    'id': ['A001', 'A001', 'A003', None],\n",
        "    'value': [5, -1, 10, 7]\n",
        "})\n",
        "\n",
        "strict_validator = (\n",
        "    FrameCheck()\n",
        "    .column('id', type='string', regex=r'^A\\d{3}$', not_null = True)\n",
        "    .unique(columns=['id'])\n",
        "    .raise_on_error()\n",
        ")\n",
        "\n",
        "# This will raise a ValueError with detailed validation message\n",
        "strict_validator.validate(simple_df)"
      ],
      "metadata": {
        "id": "WobQDchFkfZh",
        "colab": {
          "base_uri": "https://localhost:8080/",
          "height": 341
        },
        "outputId": "fe35e61b-3a6c-420d-e535-f5ebb75e48e5"
      },
      "execution_count": 30,
      "outputs": [
        {
          "output_type": "error",
          "ename": "ValueError",
          "evalue": "FrameCheck validation failed:\nColumn 'id' contains missing values.\nRows are not unique based on columns: ['id']",
          "traceback": [
            "\u001b[0;31m---------------------------------------------------------------------------\u001b[0m",
            "\u001b[0;31mValueError\u001b[0m                                Traceback (most recent call last)",
            "\u001b[0;32m<ipython-input-30-6a485272dc12>\u001b[0m in \u001b[0;36m<cell line: 0>\u001b[0;34m()\u001b[0m\n\u001b[1;32m     12\u001b[0m \u001b[0;34m\u001b[0m\u001b[0m\n\u001b[1;32m     13\u001b[0m \u001b[0;31m# This will raise a ValueError with detailed validation message\u001b[0m\u001b[0;34m\u001b[0m\u001b[0;34m\u001b[0m\u001b[0m\n\u001b[0;32m---> 14\u001b[0;31m \u001b[0mstrict_validator\u001b[0m\u001b[0;34m.\u001b[0m\u001b[0mvalidate\u001b[0m\u001b[0;34m(\u001b[0m\u001b[0msimple_df\u001b[0m\u001b[0;34m)\u001b[0m\u001b[0;34m\u001b[0m\u001b[0;34m\u001b[0m\u001b[0m\n\u001b[0m",
            "\u001b[0;32m/usr/local/lib/python3.11/dist-packages/framecheck/frame_check.py\u001b[0m in \u001b[0;36mvalidate\u001b[0;34m(self, df)\u001b[0m\n\u001b[1;32m    282\u001b[0m \u001b[0;34m\u001b[0m\u001b[0m\n\u001b[1;32m    283\u001b[0m         \u001b[0;32mif\u001b[0m \u001b[0mself\u001b[0m\u001b[0;34m.\u001b[0m\u001b[0m_raise_on_error\u001b[0m \u001b[0;32mand\u001b[0m \u001b[0merrors\u001b[0m\u001b[0;34m:\u001b[0m\u001b[0;34m\u001b[0m\u001b[0;34m\u001b[0m\u001b[0m\n\u001b[0;32m--> 284\u001b[0;31m             \u001b[0;32mraise\u001b[0m \u001b[0mValueError\u001b[0m\u001b[0;34m(\u001b[0m\u001b[0;34m\"FrameCheck validation failed:\\n\"\u001b[0m \u001b[0;34m+\u001b[0m \u001b[0;34m\"\\n\"\u001b[0m\u001b[0;34m.\u001b[0m\u001b[0mjoin\u001b[0m\u001b[0;34m(\u001b[0m\u001b[0merrors\u001b[0m\u001b[0;34m)\u001b[0m\u001b[0;34m)\u001b[0m\u001b[0;34m\u001b[0m\u001b[0;34m\u001b[0m\u001b[0m\n\u001b[0m\u001b[1;32m    285\u001b[0m         \u001b[0;32melse\u001b[0m\u001b[0;34m:\u001b[0m\u001b[0;34m\u001b[0m\u001b[0;34m\u001b[0m\u001b[0m\n\u001b[1;32m    286\u001b[0m             \u001b[0mself\u001b[0m\u001b[0;34m.\u001b[0m\u001b[0m_emit_errors\u001b[0m\u001b[0;34m(\u001b[0m\u001b[0merrors\u001b[0m\u001b[0;34m)\u001b[0m\u001b[0;34m\u001b[0m\u001b[0;34m\u001b[0m\u001b[0m\n",
            "\u001b[0;31mValueError\u001b[0m: FrameCheck validation failed:\nColumn 'id' contains missing values.\nRows are not unique based on columns: ['id']"
          ]
        }
      ]
    },
    {
      "cell_type": "markdown",
      "source": [
        "## Design Patterns in Production\n",
        "\n",
        "One of the framecheck principles is `No configuration files. Ever.`\n",
        "\n",
        "To keep your codebase clean, you can define your FrameCheck objects in a module and import them."
      ],
      "metadata": {
        "id": "qwbv6yikCdai"
      }
    },
    {
      "cell_type": "markdown",
      "source": [
        "#### validators.py"
      ],
      "metadata": {
        "id": "9_i1ioSYDPPR"
      }
    },
    {
      "cell_type": "markdown",
      "source": [
        "```python\n",
        "from framecheck import FrameCheck\n",
        "\n",
        "price_validator = (\n",
        "    FrameCheck()\n",
        "    .column('item_id', type='string')\n",
        "    .column('price', type='float', min=0)\n",
        "    .not_null()\n",
        ")\n",
        "\n",
        "\n",
        "```"
      ],
      "metadata": {
        "id": "m3OtMwOFC5im"
      }
    },
    {
      "cell_type": "markdown",
      "source": [
        "#### main.py (or wherever)"
      ],
      "metadata": {
        "id": "85TB5w8hDcny"
      }
    },
    {
      "cell_type": "markdown",
      "source": [
        "```python\n",
        "from validators import price_validator\n",
        "\n",
        "result = price_validator.validate(df)\n",
        "```"
      ],
      "metadata": {
        "id": "KYAWnTrYDgyg"
      }
    },
    {
      "cell_type": "code",
      "source": [],
      "metadata": {
        "id": "MFO380_XCgKJ"
      },
      "execution_count": null,
      "outputs": []
    }
  ],
  "metadata": {
    "kernelspec": {
      "display_name": "Python 3",
      "language": "python",
      "name": "python3"
    },
    "language_info": {
      "codemirror_mode": {
        "name": "ipython",
        "version": 3
      },
      "file_extension": ".py",
      "mimetype": "text/x-python",
      "name": "python",
      "nbconvert_exporter": "python",
      "pygments_lexer": "ipython3",
      "version": "3.11.5"
    },
    "colab": {
      "provenance": [],
      "toc_visible": true
    }
  },
  "nbformat": 4,
  "nbformat_minor": 0
}