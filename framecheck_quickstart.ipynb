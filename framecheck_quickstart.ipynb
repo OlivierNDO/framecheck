{
  "cells": [
    {
      "cell_type": "markdown",
      "metadata": {
        "id": "X3PcWDIGMoOD"
      },
      "source": [
        "# <img src=\"https://raw.githubusercontent.com/OlivierNDO/framecheck/main/images/logo.png\" alt=\"FrameCheck\" width=\"512\" height=\"125\">\n",
        "\n",
        "# FrameCheck: Pandas DataFrame Validation\n",
        "\n",
        "**FrameCheck** is a lightweight, flexible validation library for pandas DataFrames.\n",
        "\n",
        "Instead of writing dozens of repetitive checks or dealing with complex schema configurations, FrameCheck offers a clean, fluent API that makes validation both readable and maintainable.\n",
        "\n",
        "Key features:\n",
        "- Simple, chainable validation methods\n",
        "- Column and DataFrame-level validation\n",
        "- Support for both error and warning-level assertions\n",
        "- No configuration files or decorators\n",
        "\n",
        "This notebook demonstrates how FrameCheck can help you implement robust validation with minimal code."
      ]
    },
    {
      "cell_type": "markdown",
      "metadata": {
        "id": "BWfYckK8MoOE"
      },
      "source": [
        "## Setup"
      ]
    },
    {
      "cell_type": "code",
      "execution_count": null,
      "metadata": {
        "id": "vb9fTPtfMoOE"
      },
      "outputs": [],
      "source": [
        "# Install framecheck\n",
        "!pip install framecheck -q\n",
        "\n",
        "# Import required packages\n",
        "import logging\n",
        "import pandas as pd\n",
        "from framecheck import FrameCheck, register_check_function"
      ]
    },
    {
      "cell_type": "markdown",
      "source": [
        "## Sample Data: Model Output Validation\n",
        "\n",
        "Let's create a dataset representing ML model output that requires validation:"
      ],
      "metadata": {
        "id": "mw4L7Z_AOlo7"
      }
    },
    {
      "cell_type": "code",
      "source": [
        "df = pd.DataFrame({\n",
        "    'transaction_id': ['TXN1001', 'TXN1002', 'TXN1003'],\n",
        "    'user_id': [501, 502, 503],\n",
        "    'transaction_time': ['2024-04-15 08:23:11', '2024-04-15 08:45:22', '2024-04-15 09:01:37'],\n",
        "    'model_score': [0.0, 0.92, 0.95],\n",
        "    'model_version': ['v2.1.0', 'v2.1.0', 'v2.1.0'],\n",
        "    'flagged_for_review': [False, True, False]\n",
        "})"
      ],
      "metadata": {
        "id": "JPkZgH1FOVXe"
      },
      "execution_count": null,
      "outputs": []
    },
    {
      "cell_type": "markdown",
      "source": [
        "<div style=\"background-color: #f8f9fa; padding: 15px; border-left: 5px solid #4285f4; border-radius: 4px; margin: 15px 0;\">\n",
        "  <p style=\"margin: 0; font-size: 14px;\">\n",
        "    <strong>Optional:</strong> You may pass a logger to FrameCheck as of version 0.5.0, but it's not required.\n",
        "  </p>\n",
        "</div>"
      ],
      "metadata": {
        "id": "ZrG4f03yj5SZ"
      }
    },
    {
      "cell_type": "code",
      "source": [
        "logger = logging.getLogger(\"model_validation\")\n",
        "logger.setLevel(logging.INFO)"
      ],
      "metadata": {
        "id": "8QO0bGfJkJ8j"
      },
      "execution_count": null,
      "outputs": []
    },
    {
      "cell_type": "markdown",
      "source": [
        "## Validation Requirements\n",
        "\n",
        "This data needs to meet these conditions:\n",
        "- `transaction_id`: follows TXN format\n",
        "- `user_id`: positive integer\n",
        "- `transaction_time`: valid datetime\n",
        "- `model_score`: float between 0-1 **(warn if equal to 0)**\n",
        "- `model_version`: string\n",
        "- `flagged_for_review`: boolean\n",
        "- No missing values\n",
        "- Business rule: high scores (>0.9) must be flagged"
      ],
      "metadata": {
        "id": "YnXeVu5H63JO"
      }
    },
    {
      "cell_type": "markdown",
      "source": [
        "Define FrameCheck object and validate data"
      ],
      "metadata": {
        "id": "aoaIaTAH8Boc"
      }
    },
    {
      "cell_type": "code",
      "source": [
        "# Note - you may use a lambda instead, but that will prevent you from saving\n",
        "@register_check_function(name=\"high_score_is_flagged\")\n",
        "def high_score_is_flagged(row):\n",
        "    return row['model_score'] <= 0.9 or row['flagged_for_review'] is True\n",
        "\n",
        "model_score_validator = (\n",
        "    FrameCheck(logger = logger)\n",
        "    .column('transaction_id', type='string', regex=r'^TXN\\d{4,}$')\n",
        "    .column('user_id', type='int', min=1)\n",
        "    .column('transaction_time', type='datetime', before='now')\n",
        "    .column('model_score', type='float', min=0.0, max=1.0)\n",
        "    .column('model_score', type='float', not_in_set=[0.0], warn_only=True)\n",
        "    .column('model_version', type='string')\n",
        "    .column('flagged_for_review', type='bool')\n",
        "    .custom_check(\n",
        "        high_score_is_flagged,\n",
        "        \"flagged_for_review must be True when model_score > 0.9\"\n",
        "    )\n",
        "    .not_null()\n",
        "    .not_empty()\n",
        "    .only_defined_columns()\n",
        ")\n",
        "\n",
        "result = model_score_validator.validate(df)\n",
        "\n",
        "if not result.is_valid:\n",
        "    print(result.summary())"
      ],
      "metadata": {
        "id": "dZUYLnE3OVaH"
      },
      "execution_count": null,
      "outputs": []
    },
    {
      "cell_type": "markdown",
      "source": [
        "Optional - save as a serialized object"
      ],
      "metadata": {
        "id": "ZAC6rnuszuAc"
      }
    },
    {
      "cell_type": "code",
      "source": [
        "model_score_validator.save('model_score_validator.json')"
      ],
      "metadata": {
        "id": "qqFbgdR5zwcV"
      },
      "execution_count": null,
      "outputs": []
    },
    {
      "cell_type": "markdown",
      "source": [
        "Loading and using the saved object"
      ],
      "metadata": {
        "id": "ysiOsRREz_WR"
      }
    },
    {
      "cell_type": "code",
      "source": [
        "reloaded_validator = FrameCheck().load('model_score_validator.json')\n",
        "result = reloaded_validator.validate(df)"
      ],
      "metadata": {
        "id": "59B5VFZd0Ax3"
      },
      "execution_count": null,
      "outputs": []
    },
    {
      "cell_type": "markdown",
      "source": [
        "See what checks are done in the loaded validator with .info()"
      ],
      "metadata": {
        "id": "shTqQ5wk5QQn"
      }
    },
    {
      "cell_type": "code",
      "source": [
        "reloaded_validator.info()"
      ],
      "metadata": {
        "id": "yi69BMaZ5UQR"
      },
      "execution_count": null,
      "outputs": []
    },
    {
      "cell_type": "markdown",
      "source": [
        "## Validation Results\n",
        "\n",
        "FrameCheck shows two issues:\n",
        "\n",
        "**Warning:**\n",
        "- `model_score` contains value 0.0 (suspicious but allowed)\n",
        "\n",
        "**Error:**\n",
        "- Transaction with score > 0.9 not flagged for review (violates business rule)"
      ],
      "metadata": {
        "id": "Z0-hEm8h8RnT"
      }
    },
    {
      "cell_type": "markdown",
      "source": [
        "## Using Validation Results"
      ],
      "metadata": {
        "id": "93aZmdd67yJX"
      }
    },
    {
      "cell_type": "markdown",
      "source": [
        "Get a summary of all validation issues"
      ],
      "metadata": {
        "id": "nqxjTT1g-O4b"
      }
    },
    {
      "cell_type": "code",
      "source": [
        "print(result.summary())"
      ],
      "metadata": {
        "id": "kiZocHg2kfT7"
      },
      "execution_count": null,
      "outputs": []
    },
    {
      "cell_type": "markdown",
      "source": [
        "Identify invalid rows"
      ],
      "metadata": {
        "id": "NpQgIEZE-T3K"
      }
    },
    {
      "cell_type": "code",
      "source": [
        "invalid_rows = result.get_invalid_rows(df)\n",
        "invalid_rows"
      ],
      "metadata": {
        "id": "_AA4ZSThkfW2"
      },
      "execution_count": null,
      "outputs": []
    },
    {
      "cell_type": "markdown",
      "source": [
        "Access errors and warnings (although these will be logged or printed to console already by default)"
      ],
      "metadata": {
        "id": "y-ofOuqP-chb"
      }
    },
    {
      "cell_type": "code",
      "source": [
        "result.errors"
      ],
      "metadata": {
        "id": "YQrG0I6v-apv"
      },
      "execution_count": null,
      "outputs": []
    },
    {
      "cell_type": "code",
      "source": [
        "result.warnings"
      ],
      "metadata": {
        "id": "85mWexks-bB7"
      },
      "execution_count": null,
      "outputs": []
    },
    {
      "cell_type": "markdown",
      "source": [
        "## Raising Exceptions\n",
        "\n",
        "Use `.raise_on_error()` to throw exceptions for invalid data\n",
        "\n",
        "In this example, we require that `id` be non-null and unique."
      ],
      "metadata": {
        "id": "OsLdIypQ_lta"
      }
    },
    {
      "cell_type": "code",
      "source": [
        "simple_df = pd.DataFrame({\n",
        "    'id': ['A001', 'A001', 'A003', None],\n",
        "    'value': [5, -1, 10, 7]\n",
        "})\n",
        "\n",
        "strict_validator = (\n",
        "    FrameCheck()\n",
        "    .column('id', type='string', regex=r'^A\\d{3}$', not_null = True)\n",
        "    .unique(columns=['id'])\n",
        "    .raise_on_error()\n",
        ")\n",
        "\n",
        "# This will raise a ValueError with detailed validation message\n",
        "strict_validator.validate(simple_df)"
      ],
      "metadata": {
        "id": "WobQDchFkfZh"
      },
      "execution_count": null,
      "outputs": []
    },
    {
      "cell_type": "markdown",
      "source": [
        "## Design Patterns in Production\n",
        "\n",
        "One of the framecheck principles is `No configuration files. Ever.`\n",
        "\n",
        "To keep your codebase clean, you can define your FrameCheck objects in a module and import them."
      ],
      "metadata": {
        "id": "qwbv6yikCdai"
      }
    },
    {
      "cell_type": "markdown",
      "source": [
        "> Pattern 1: Define validators in a module\n",
        "-------------------------------------------"
      ],
      "metadata": {
        "id": "_kr4o3rOni4x"
      }
    },
    {
      "cell_type": "markdown",
      "source": [
        "#### validators.py"
      ],
      "metadata": {
        "id": "9_i1ioSYDPPR"
      }
    },
    {
      "cell_type": "markdown",
      "source": [
        "```python\n",
        "\n",
        "import logging\n",
        "from framecheck import FrameCheck\n",
        "logger = logging.getLogger('main') # logger optional but recommended for prod\n",
        "# ... configure logger ...\n",
        "\n",
        "price_validator = (\n",
        "    FrameCheck(logger = logger)\n",
        "    .column('item_id', type='string')\n",
        "    .column('price', type='float', min=0)\n",
        "    .not_null()\n",
        ")\n",
        "```"
      ],
      "metadata": {
        "id": "m3OtMwOFC5im"
      }
    },
    {
      "cell_type": "markdown",
      "source": [
        "#### main.py (or wherever)"
      ],
      "metadata": {
        "id": "85TB5w8hDcny"
      }
    },
    {
      "cell_type": "markdown",
      "source": [
        "```python\n",
        "from validators import price_validator\n",
        "\n",
        "result = price_validator.validate(df)\n",
        "```"
      ],
      "metadata": {
        "id": "KYAWnTrYDgyg"
      }
    },
    {
      "cell_type": "markdown",
      "source": [
        "> Pattern 2: Save and load serialized object\n",
        "-------------------------------------------"
      ],
      "metadata": {
        "id": "7O-P3LNXnsyd"
      }
    },
    {
      "cell_type": "markdown",
      "source": [
        "However, you may also save the FrameCheck object as of version 0.4.4\n",
        "\n",
        "```python\n",
        "price_validator.save('price_validator.json')\n",
        "```\n",
        "\n",
        "...and then load\n",
        "\n",
        "```python\n",
        "price_validator = FrameCheck.load('price_validator.json')\n",
        "```"
      ],
      "metadata": {
        "id": "82mACZxJzGXF"
      }
    }
  ],
  "metadata": {
    "kernelspec": {
      "display_name": "Python 3",
      "language": "python",
      "name": "python3"
    },
    "language_info": {
      "codemirror_mode": {
        "name": "ipython",
        "version": 3
      },
      "file_extension": ".py",
      "mimetype": "text/x-python",
      "name": "python",
      "nbconvert_exporter": "python",
      "pygments_lexer": "ipython3",
      "version": "3.11.5"
    },
    "colab": {
      "provenance": [],
      "toc_visible": true
    }
  },
  "nbformat": 4,
  "nbformat_minor": 0
}